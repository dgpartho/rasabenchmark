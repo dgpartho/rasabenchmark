{
  "nbformat": 4,
  "nbformat_minor": 0,
  "metadata": {
    "colab": {
      "provenance": [],
      "gpuType": "T4"
    },
    "kernelspec": {
      "name": "python3",
      "display_name": "Python 3"
    },
    "language_info": {
      "name": "python"
    },
    "gpuClass": "standard",
    "accelerator": "GPU"
  },
  "cells": [
    {
      "cell_type": "code",
      "source": [
        "!pip install rasa\n",
        "!pip install rasa[convert] rasa[transformers]"
      ],
      "metadata": {
        "id": "IFqtQDgDwUTV"
      },
      "execution_count": null,
      "outputs": []
    },
    {
      "cell_type": "code",
      "source": [
        "!pip install -U ipython"
      ],
      "metadata": {
        "id": "vXOiiyc0cxf6"
      },
      "execution_count": null,
      "outputs": []
    },
    {
      "cell_type": "code",
      "source": [
        "!pip3 install rasa[spacy]\n",
        "!python3 -m spacy download en_core_web_md"
      ],
      "metadata": {
        "id": "0SJbEfL2T14Z"
      },
      "execution_count": null,
      "outputs": []
    },
    {
      "cell_type": "markdown",
      "source": [],
      "metadata": {
        "id": "LlaUGp7BR_Kn"
      }
    },
    {
      "cell_type": "code",
      "source": [
        "!mkdir rasa_benchmark"
      ],
      "metadata": {
        "id": "DEVHLdwBJ0ow"
      },
      "execution_count": null,
      "outputs": []
    },
    {
      "cell_type": "code",
      "source": [
        "!rasa init --no-prompt --init-dir rasa_benchmark"
      ],
      "metadata": {
        "id": "DEan3AjmwlH9"
      },
      "execution_count": null,
      "outputs": []
    },
    {
      "cell_type": "code",
      "source": [
        "!wget https://raw.githubusercontent.com/howl-anderson/ATIS_dataset/master/data/standard_format/rasa/train.json"
      ],
      "metadata": {
        "id": "B8ATYg5zJZwU"
      },
      "execution_count": null,
      "outputs": []
    },
    {
      "cell_type": "code",
      "source": [
        "!rasa data convert nlu --data train.json --out rasa_benchmark/data/train.yml"
      ],
      "metadata": {
        "id": "rvCz-19TJl_G"
      },
      "execution_count": null,
      "outputs": []
    },
    {
      "cell_type": "code",
      "source": [
        "!pip3 install git+https://github.com/mit-nlp/MITIE.git\n",
        "!pip3 install rasa[mitie]"
      ],
      "metadata": {
        "id": "3zPAscfN-y7t"
      },
      "execution_count": null,
      "outputs": []
    },
    {
      "cell_type": "code",
      "source": [
        "!rasa train nlu --nlu /content/rasa_benchmark/data/train.yml --config /content/rasa_benchmark/config.yml"
      ],
      "metadata": {
        "id": "PQkAvF2Uwh5R"
      },
      "execution_count": null,
      "outputs": []
    },
    {
      "cell_type": "code",
      "source": [
        "!wget https://raw.githubusercontent.com/howl-anderson/ATIS_dataset/master/data/standard_format/rasa/test.json"
      ],
      "metadata": {
        "id": "WSL-m2Ua_O6m"
      },
      "execution_count": null,
      "outputs": []
    },
    {
      "cell_type": "code",
      "source": [
        "!rasa data convert nlu --data test.json --out rasa_benchmark/data/test.yml"
      ],
      "metadata": {
        "id": "lBlylUso_dwK"
      },
      "execution_count": null,
      "outputs": []
    },
    {
      "cell_type": "code",
      "source": [
        "!wget -c https://github.com/mit-nlp/MITIE/archive/refs/tags/v0.7.tar.gz"
      ],
      "metadata": {
        "id": "UueqeWIGEqqO"
      },
      "execution_count": null,
      "outputs": []
    },
    {
      "cell_type": "code",
      "source": [
        "!rasa test nlu --nlu ../content/rasa_benchmark/data/test.yml  --config ../content/rasa_benchmark/config.yml --cross-validation --runs 1 --folds 2  --out  results/gpt2Large"
      ],
      "metadata": {
        "id": "iK5HmkDNK_QQ"
      },
      "execution_count": null,
      "outputs": []
    },
    {
      "cell_type": "code",
      "source": [
        "!zip /content/bertresults.zip -r  /content/results "
      ],
      "metadata": {
        "id": "ZXjySJ-Aepx_"
      },
      "execution_count": null,
      "outputs": []
    },
    {
      "cell_type": "code",
      "source": [
        "!python -m pip install git+https://github.com/RasaHQ/rasalit"
      ],
      "metadata": {
        "id": "LXrol6zNF6Wo"
      },
      "execution_count": null,
      "outputs": []
    },
    {
      "cell_type": "code",
      "source": [
        "!python -m rasalit overview --folder results --port 8501"
      ],
      "metadata": {
        "id": "mty699INGCp4"
      },
      "execution_count": null,
      "outputs": []
    }
  ]
}